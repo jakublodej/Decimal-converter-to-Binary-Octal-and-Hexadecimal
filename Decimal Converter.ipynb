{
 "cells": [
  {
   "cell_type": "code",
   "execution_count": 4,
   "metadata": {},
   "outputs": [
    {
     "name": "stdout",
     "output_type": "stream",
     "text": [
      "Put your decimal value: 1444\n",
      "The decimal value of 1444 is:\n",
      "0b10110100100 in binary.\n",
      "0o2644 in octal.\n",
      "0x5a4 in hexadecimal.\n"
     ]
    }
   ],
   "source": [
    "decimal=int(input(\"Put your decimal value: \"))\n",
    "print(\"The decimal value of\",decimal,\"is:\")\n",
    "print(bin(decimal),\"in binary.\")\n",
    "print(oct(decimal),\"in octal.\")\n",
    "print(hex(decimal),\"in hexadecimal.\")"
   ]
  },
  {
   "cell_type": "code",
   "execution_count": null,
   "metadata": {},
   "outputs": [],
   "source": []
  }
 ],
 "metadata": {
  "kernelspec": {
   "display_name": "Python 3",
   "language": "python",
   "name": "python3"
  },
  "language_info": {
   "codemirror_mode": {
    "name": "ipython",
    "version": 3
   },
   "file_extension": ".py",
   "mimetype": "text/x-python",
   "name": "python",
   "nbconvert_exporter": "python",
   "pygments_lexer": "ipython3",
   "version": "3.6.5"
  }
 },
 "nbformat": 4,
 "nbformat_minor": 2
}
